{
 "cells": [
  {
   "cell_type": "markdown",
   "metadata": {},
   "source": [
    "Import Libs"
   ]
  },
  {
   "cell_type": "code",
   "execution_count": 21,
   "metadata": {},
   "outputs": [],
   "source": [
    "%matplotlib inline\n",
    "\n",
    "import torch\n",
    "import matplotlib.pyplot as plt\n",
    "import requests\n",
    "import os\n",
    "import zipfile\n",
    "import pandas as pd\n",
    "from tqdm import tqdm\n",
    "from numpy import isnan\n",
    "from datetime import timedelta"
   ]
  },
  {
   "cell_type": "markdown",
   "metadata": {},
   "source": [
    "Download Data"
   ]
  },
  {
   "cell_type": "code",
   "execution_count": 4,
   "metadata": {},
   "outputs": [],
   "source": [
    "if not os.path.exists('data/electricity.zip'):\n",
    "    url = 'https://archive.ics.uci.edu/ml/machine-learning-databases/00235/household_power_consumption.zip'\n",
    "    response = requests.get(url, allow_redirects=True)\n",
    "\n",
    "    with open(\"data/electricity.zip\",\"wb\") as handle:\n",
    "        for data in tqdm(response.iter_content()):\n",
    "            handle.write(data)\n",
    "\n",
    "    with zipfile.ZipFile(\"data/electricity.zip\",'r') as zip_ref:\n",
    "        zip_ref.extractall(\"data\")\n",
    "\n",
    "    os.rename('data/household_power_consumption.txt','data/household_power_consumption.csv')\n"
   ]
  },
  {
   "cell_type": "markdown",
   "metadata": {},
   "source": [
    "Preprocess Data"
   ]
  },
  {
   "cell_type": "code",
   "execution_count": 16,
   "metadata": {},
   "outputs": [],
   "source": [
    "resolution = 60\n",
    "df_raw = pd.read_csv('data/household_power_consumption.csv', sep=';', index_col=False, low_memory=False, na_values='?')\n",
    "df_raw = df_raw.iloc[21996::resolution,:3]\n",
    "df_raw['datetime'] = pd.to_datetime(df_raw['Date']+' '+df_raw['Time'])\n",
    "df_raw = df_raw.drop(['Date','Time'],axis=1)\n",
    "df_raw = df_raw.set_index(['datetime'])"
   ]
  },
  {
   "cell_type": "code",
   "execution_count": 36,
   "metadata": {},
   "outputs": [
    {
     "ename": "KeyError",
     "evalue": "datetime.date(2010, 1, 12)",
     "output_type": "error",
     "traceback": [
      "\u001b[0;31m---------------------------------------------------------------------------\u001b[0m",
      "\u001b[0;31mKeyError\u001b[0m                                  Traceback (most recent call last)",
      "\u001b[1;32m/home/kutay/Python/IAAIP_tutorial/vae_load_generation.ipynb Cell 7\u001b[0m in \u001b[0;36m<cell line: 6>\u001b[0;34m()\u001b[0m\n\u001b[1;32m      <a href='vscode-notebook-cell:/home/kutay/Python/IAAIP_tutorial/vae_load_generation.ipynb#ch0000006?line=3'>4</a>\u001b[0m my_day, final_day \u001b[39m=\u001b[39m df_raw\u001b[39m.\u001b[39mindex[\u001b[39m0\u001b[39m]\u001b[39m.\u001b[39mdate(), df_raw\u001b[39m.\u001b[39mindex[\u001b[39m-\u001b[39m\u001b[39m1\u001b[39m]\u001b[39m.\u001b[39mdate()\n\u001b[1;32m      <a href='vscode-notebook-cell:/home/kutay/Python/IAAIP_tutorial/vae_load_generation.ipynb#ch0000006?line=5'>6</a>\u001b[0m \u001b[39mwhile\u001b[39;00m my_day \u001b[39m<\u001b[39m final_day:\n\u001b[0;32m----> <a href='vscode-notebook-cell:/home/kutay/Python/IAAIP_tutorial/vae_load_generation.ipynb#ch0000006?line=6'>7</a>\u001b[0m         day_data \u001b[39m=\u001b[39m g\u001b[39m.\u001b[39;49mget_group(my_day)\u001b[39m.\u001b[39mvalues\u001b[39m.\u001b[39mtolist()\n\u001b[1;32m      <a href='vscode-notebook-cell:/home/kutay/Python/IAAIP_tutorial/vae_load_generation.ipynb#ch0000006?line=7'>8</a>\u001b[0m         \u001b[39mif\u001b[39;00m isnan(day_data)\u001b[39m.\u001b[39many():\n\u001b[1;32m      <a href='vscode-notebook-cell:/home/kutay/Python/IAAIP_tutorial/vae_load_generation.ipynb#ch0000006?line=8'>9</a>\u001b[0m             my_day \u001b[39m+\u001b[39m\u001b[39m=\u001b[39m timedelta(days\u001b[39m=\u001b[39m\u001b[39m1\u001b[39m)\n",
      "File \u001b[0;32m~/miniconda3/envs/torchenv/lib/python3.9/site-packages/pandas/core/groupby/groupby.py:747\u001b[0m, in \u001b[0;36mBaseGroupBy.get_group\u001b[0;34m(self, name, obj)\u001b[0m\n\u001b[1;32m    745\u001b[0m inds \u001b[39m=\u001b[39m \u001b[39mself\u001b[39m\u001b[39m.\u001b[39m_get_index(name)\n\u001b[1;32m    746\u001b[0m \u001b[39mif\u001b[39;00m \u001b[39mnot\u001b[39;00m \u001b[39mlen\u001b[39m(inds):\n\u001b[0;32m--> 747\u001b[0m     \u001b[39mraise\u001b[39;00m \u001b[39mKeyError\u001b[39;00m(name)\n\u001b[1;32m    749\u001b[0m \u001b[39mreturn\u001b[39;00m obj\u001b[39m.\u001b[39m_take_with_is_copy(inds, axis\u001b[39m=\u001b[39m\u001b[39mself\u001b[39m\u001b[39m.\u001b[39maxis)\n",
      "\u001b[0;31mKeyError\u001b[0m: datetime.date(2010, 1, 12)"
     ]
    }
   ],
   "source": [
    "g = df_raw.groupby(df_raw.index.floor('d'))\n",
    "\n",
    "daily_data = []\n",
    "my_day, final_day = df_raw.index[0].date(), df_raw.index[-1].date()\n",
    "\n",
    "while my_day < final_day:\n",
    "        day_data = g.get_group(my_day).values.tolist()\n",
    "        if isnan(day_data).any():\n",
    "            my_day += timedelta(days=1)\n",
    "        else:\n",
    "            row_data = [my_day.month, my_day.weekday()] + day_data\n",
    "            daily_data.append(row_data)\n",
    "            my_day += timedelta(days=1)\n",
    "\n",
    "print('Dataset Size:'+str(daily_data.__len__()))"
   ]
  }
 ],
 "metadata": {
  "kernelspec": {
   "display_name": "Python 3.9.12 ('torchenv')",
   "language": "python",
   "name": "python3"
  },
  "language_info": {
   "codemirror_mode": {
    "name": "ipython",
    "version": 3
   },
   "file_extension": ".py",
   "mimetype": "text/x-python",
   "name": "python",
   "nbconvert_exporter": "python",
   "pygments_lexer": "ipython3",
   "version": "3.9.12"
  },
  "orig_nbformat": 4,
  "vscode": {
   "interpreter": {
    "hash": "8056385a05999709b5cae6043df902d7bb596f3f2a3ddb52cf32b89e8788e927"
   }
  }
 },
 "nbformat": 4,
 "nbformat_minor": 2
}
