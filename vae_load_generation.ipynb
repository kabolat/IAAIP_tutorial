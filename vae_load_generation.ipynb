{
 "cells": [
  {
   "cell_type": "markdown",
   "metadata": {},
   "source": [
    "Import Libs"
   ]
  },
  {
   "cell_type": "code",
   "execution_count": 21,
   "metadata": {},
   "outputs": [],
   "source": [
    "%matplotlib inline\n",
    "\n",
    "import torch\n",
    "import matplotlib.pyplot as plt\n",
    "import requests\n",
    "import os\n",
    "import zipfile\n",
    "import pandas as pd\n",
    "from tqdm import tqdm\n",
    "from numpy import isnan\n",
    "from datetime import timedelta"
   ]
  },
  {
   "cell_type": "markdown",
   "metadata": {},
   "source": [
    "Download Data"
   ]
  },
  {
   "cell_type": "code",
   "execution_count": 4,
   "metadata": {},
   "outputs": [],
   "source": [
    "if not os.path.exists('data/electricity.zip'):\n",
    "    url = 'https://archive.ics.uci.edu/ml/machine-learning-databases/00235/household_power_consumption.zip'\n",
    "    response = requests.get(url, allow_redirects=True)\n",
    "\n",
    "    with open(\"data/electricity.zip\",\"wb\") as handle:\n",
    "        for data in tqdm(response.iter_content()):\n",
    "            handle.write(data)\n",
    "\n",
    "    with zipfile.ZipFile(\"data/electricity.zip\",'r') as zip_ref:\n",
    "        zip_ref.extractall(\"data\")\n",
    "\n",
    "    os.rename('data/household_power_consumption.txt','data/household_power_consumption.csv')\n"
   ]
  },
  {
   "cell_type": "markdown",
   "metadata": {},
   "source": [
    "Preprocess Data"
   ]
  },
  {
   "cell_type": "code",
   "execution_count": 49,
   "metadata": {},
   "outputs": [],
   "source": [
    "resolution = 60\n",
    "df_raw = pd.read_csv('data/household_power_consumption.csv', sep=';', index_col=False, low_memory=False, na_values='?')\n",
    "df_raw = df_raw.iloc[21996::resolution,:3]\n",
    "df_raw['datetime'] = pd.to_datetime(df_raw['Date']+' '+df_raw['Time'], infer_datetime_format=True, dayfirst=True)\n",
    "df_raw = df_raw.drop(['Date','Time'],axis=1)\n",
    "df_raw = df_raw.set_index(['datetime'])"
   ]
  },
  {
   "cell_type": "code",
   "execution_count": 53,
   "metadata": {},
   "outputs": [
    {
     "name": "stdout",
     "output_type": "stream",
     "text": [
      "Dataset Size:1396\n"
     ]
    }
   ],
   "source": [
    "g = df_raw.groupby(df_raw.index.floor('d'))\n",
    "\n",
    "daily_data = []\n",
    "my_day, final_day = df_raw.index[0].date(), df_raw.index[-1].date()\n",
    "\n",
    "while my_day < final_day:\n",
    "    try:\n",
    "        day_data = g.get_group(my_day).T.values.tolist()[0]\n",
    "    except:\n",
    "        print(\"Date \"+str(my_day)+\" is missing.\")\n",
    "        my_day += timedelta(days=1)\n",
    "    else:\n",
    "        if (not isnan(day_data).any()) and day_data.__len__() == 24*60//resolution:\n",
    "            row_data = [my_day.month, my_day.weekday()] + day_data\n",
    "            daily_data.append(row_data)\n",
    "        my_day += timedelta(days=1)\n",
    "\n",
    "print('Dataset Size:'+str(daily_data.__len__()))\n",
    "\n"
   ]
  },
  {
   "cell_type": "code",
   "execution_count": 56,
   "metadata": {},
   "outputs": [
    {
     "name": "stdout",
     "output_type": "stream",
     "text": [
      "['month', 'weekday', '00:00', '01:00', '02:00', '03:00', '04:00', '05:00', '06:00', '07:00', '08:00', '09:00', '10:00', '11:00', '12:00', '13:00', '14:00', '15:00', '16:00', '17:00', '18:00', '19:00', '20:00', '21:00', '22:00', '23:00']\n"
     ]
    }
   ],
   "source": [
    "column_names = ['month', 'weekday']\n",
    "my_day = pd.Timestamp('2012-01-01')\n",
    "for _ in range(24*60//resolution):\n",
    "    column_names.append(my_day.strftime('%H:%M'))\n",
    "    my_day+=timedelta(minutes=resolution)\n",
    "\n",
    "print(column_names)\n",
    "\n",
    "# %%\n",
    "df_daily = pd.DataFrame(daily_data,columns=column_names)\n",
    "df_daily.to_csv('data/daily_data.csv',index=False)"
   ]
  }
 ],
 "metadata": {
  "kernelspec": {
   "display_name": "Python 3.9.12 ('torchenv')",
   "language": "python",
   "name": "python3"
  },
  "language_info": {
   "codemirror_mode": {
    "name": "ipython",
    "version": 3
   },
   "file_extension": ".py",
   "mimetype": "text/x-python",
   "name": "python",
   "nbconvert_exporter": "python",
   "pygments_lexer": "ipython3",
   "version": "3.9.12"
  },
  "orig_nbformat": 4,
  "vscode": {
   "interpreter": {
    "hash": "8056385a05999709b5cae6043df902d7bb596f3f2a3ddb52cf32b89e8788e927"
   }
  }
 },
 "nbformat": 4,
 "nbformat_minor": 2
}
